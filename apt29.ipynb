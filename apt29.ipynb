{
 "cells": [
  {
   "cell_type": "markdown",
   "metadata": {},
   "source": [
    "# Записи телеметрии"
   ]
  },
  {
   "cell_type": "markdown",
   "metadata": {},
   "source": [
    "\n",
    "|               |    |\n",
    "|:--------------|:---|\n",
    "| Группа        | APT29 |\n",
    "| Описание      | Группа угроз APT29 оперирует как минимум с 2008 года, в 2015 году провела одну из самых известных своих атак. Её содержание ниже. |\n",
    "| Авторы         | [Воркшоп МЦА](http://mca.nsu.ru/projects/) |\n",
    "    "
   ]
  },
  {
   "cell_type": "markdown",
   "metadata": {},
   "source": [
    "## Импортируем библиотеки"
   ]
  },
  {
   "cell_type": "code",
   "execution_count": 1,
   "metadata": {},
   "outputs": [],
   "source": [
    "from pyspark.sql import SparkSession"
   ]
  },
  {
   "cell_type": "markdown",
   "metadata": {},
   "source": [
    "## Запускаем сессию Spark"
   ]
  },
  {
   "cell_type": "code",
   "execution_count": 2,
   "metadata": {},
   "outputs": [],
   "source": [
    "spark = SparkSession.builder.getOrCreate()\n",
    "spark.conf.set(\"spark.sql.caseSensitive\", \"true\")"
   ]
  },
  {
   "cell_type": "markdown",
   "metadata": {},
   "source": [
    "## Распаковываем логи атаки"
   ]
  },
  {
   "cell_type": "code",
   "execution_count": 3,
   "metadata": {},
   "outputs": [
    {
     "name": "stdout",
     "output_type": "stream",
     "text": [
      "--2020-07-11 10:59:33--  https://github.com/hunters-forge/mordor/raw/master/datasets/large/apt29/day1/apt29_evals_day1_manual.zip\n",
      "Resolving github.com (github.com)... 140.82.118.4\n",
      "Connecting to github.com (github.com)|140.82.118.4|:443... connected.\n",
      "HTTP request sent, awaiting response... 302 Found\n",
      "Location: https://raw.githubusercontent.com/hunters-forge/mordor/master/datasets/large/apt29/day1/apt29_evals_day1_manual.zip [following]\n",
      "--2020-07-11 10:59:33--  https://raw.githubusercontent.com/hunters-forge/mordor/master/datasets/large/apt29/day1/apt29_evals_day1_manual.zip\n",
      "Resolving raw.githubusercontent.com (raw.githubusercontent.com)... 151.101.0.133, 151.101.64.133, 151.101.128.133, ...\n",
      "Connecting to raw.githubusercontent.com (raw.githubusercontent.com)|151.101.0.133|:443... connected.\n",
      "HTTP request sent, awaiting response... 200 OK\n",
      "Length: 13944972 (13M) [application/zip]\n",
      "Saving to: ‘apt29_evals_day1_manual.zip’\n",
      "\n",
      "apt29_evals_day1_ma 100%[===================>]  13.30M  7.12MB/s    in 1.9s    \n",
      "\n",
      "2020-07-11 10:59:37 (7.12 MB/s) - ‘apt29_evals_day1_manual.zip’ saved [13944972/13944972]\n",
      "\n"
     ]
    }
   ],
   "source": [
    "!wget https://github.com/hunters-forge/mordor/raw/master/datasets/large/apt29/day1/apt29_evals_day1_manual.zip"
   ]
  },
  {
   "cell_type": "code",
   "execution_count": 4,
   "metadata": {},
   "outputs": [
    {
     "name": "stdout",
     "output_type": "stream",
     "text": [
      "Archive:  apt29_evals_day1_manual.zip\n",
      "  inflating: apt29_evals_day1_manual_2020-05-01225525.json  \n"
     ]
    }
   ],
   "source": [
    "!unzip apt29_evals_day1_manual.zip"
   ]
  },
  {
   "cell_type": "markdown",
   "metadata": {},
   "source": [
    "## Импортируем логи атаки"
   ]
  },
  {
   "cell_type": "code",
   "execution_count": 5,
   "metadata": {},
   "outputs": [],
   "source": [
    "df_day1_host = spark.read.json('apt29_evals_day1_manual_2020-05-01225525.json')"
   ]
  },
  {
   "cell_type": "markdown",
   "metadata": {},
   "source": [
    "## Создаём временный SQL View"
   ]
  },
  {
   "cell_type": "code",
   "execution_count": 6,
   "metadata": {},
   "outputs": [],
   "source": [
    "df_day1_host.createTempView('apt29Host')"
   ]
  },
  {
   "cell_type": "markdown",
   "metadata": {},
   "source": [
    "## У таблицы apt29 множество столбцов, их можно посмотреть"
   ]
  },
  {
   "cell_type": "code",
   "execution_count": 14,
   "metadata": {},
   "outputs": [
    {
     "name": "stdout",
     "output_type": "stream",
     "text": [
      "+-------------+---------+-------+\n",
      "|col_name     |data_type|comment|\n",
      "+-------------+---------+-------+\n",
      "|@timestamp   |string   |null   |\n",
      "|@version     |string   |null   |\n",
      "|AccessList   |string   |null   |\n",
      "|AccessMask   |string   |null   |\n",
      "|AccessReason |string   |null   |\n",
      "|AccountName  |string   |null   |\n",
      "|AccountType  |string   |null   |\n",
      "|Action       |string   |null   |\n",
      "|Active       |string   |null   |\n",
      "|ActiveProfile|string   |null   |\n",
      "+-------------+---------+-------+\n",
      "only showing top 10 rows\n",
      "\n"
     ]
    }
   ],
   "source": [
    "df = spark.sql(\n",
    "'''\n",
    "DESCRIBE apt29Host\n",
    "'''\n",
    ")\n",
    "df.show(10,truncate = False, vertical = False)"
   ]
  },
  {
   "cell_type": "markdown",
   "metadata": {},
   "source": [
    "## Нападающий - шаги обнаружения"
   ]
  },
  {
   "cell_type": "markdown",
   "metadata": {},
   "source": [
    "## 1.A.1. User Execution\n",
    "**Procedure:** Пользователь исполнил rcs.3aka3.doc\n",
    "\n",
    "**Criteria:** Процесс rcs.3aka3.doc запущен процессом explorer.exe\n"
   ]
  },
  {
   "cell_type": "markdown",
   "metadata": {},
   "source": [
    "### Как правило, данные лежат в логах sysmon. Про поля sysmon можно [почитать здесь](https://docs.microsoft.com/en-us/sysinternals/downloads/sysmon)."
   ]
  },
  {
   "cell_type": "code",
   "execution_count": 7,
   "metadata": {},
   "outputs": [
    {
     "name": "stdout",
     "output_type": "stream",
     "text": [
      "-RECORD 0---------------------------------------------------------------------------------------------------------------------------------------------------------------------------------------------------------------------------------------------------------------------------------------------------------------------------------------------------------------------------------------------------------------------------------------------------------------------------------------------------------------------------------------------------------------------------------------------------------------------------------------------------------------------------------------------------------------------------------------------------------------------------------------------------------------------------------------------------------------------------------------------------\n",
      " Message | Process Create:\n",
      "RuleName: -\n",
      "UtcTime: 2020-05-02 02:55:56.157\n",
      "ProcessGuid: {47ab858c-e13c-5eac-a903-000000000400}\n",
      "ProcessId: 8524\n",
      "Image: C:\\ProgramData\\victim\\â€®cod.3aka3.scr\n",
      "FileVersion: -\n",
      "Description: -\n",
      "Product: -\n",
      "Company: -\n",
      "OriginalFileName: -\n",
      "CommandLine: \"C:\\ProgramData\\victim\\â€®cod.3aka3.scr\" /S\n",
      "CurrentDirectory: C:\\ProgramData\\victim\\\n",
      "User: DMEVALS\\pbeesly\n",
      "LogonGuid: {47ab858c-dabe-5eac-f331-370000000000}\n",
      "LogonId: 0x3731F3\n",
      "TerminalSessionId: 2\n",
      "IntegrityLevel: Medium\n",
      "Hashes: SHA1=4B7FA56A4E85F88B98D11A6E018698AE3FBA5E62,MD5=9D1C5EF38E6073661C74660B3A71A76E,SHA256=0DF38A55D940F498478EB03683C94D4584236E100125B526A67650BA54DF4AE4,IMPHASH=F00447512A354E59D39D2818AABA4A17\n",
      "ParentProcessGuid: {47ab858c-dac4-5eac-f202-000000000400}\n",
      "ParentProcessId: 4440\n",
      "ParentImage: C:\\Windows\\explorer.exe\n",
      "ParentCommandLine: C:\\windows\\Explorer.EXE \n",
      "\n"
     ]
    }
   ],
   "source": [
    "df = spark.sql(\n",
    "'''\n",
    "SELECT Message\n",
    "FROM apt29Host\n",
    "WHERE Channel = \"Microsoft-Windows-Sysmon/Operational\"\n",
    "    AND EventID = 1\n",
    "    AND LOWER(ParentImage) LIKE \"%explorer.exe\"\n",
    "    AND LOWER(Image) LIKE \"%3aka3%\"\n",
    "\n",
    "'''\n",
    ")\n",
    "df.show(100,truncate = False, vertical = True)"
   ]
  },
  {
   "cell_type": "markdown",
   "metadata": {},
   "source": [
    "### Security-логи Windows немного не такие, как логи sysmon, иногда информация только в одном из этих логов. См [Sysmon Config.xml recommendations compared to Windows logs](https://static1.squarespace.com/static/552092d5e4b0661088167e5c/t/5d5588b51fd81f0001471db4/1565886646582/Windows+Sysmon+Logging+Cheat+Sheet_Aug_2019.pdf)"
   ]
  },
  {
   "cell_type": "code",
   "execution_count": 8,
   "metadata": {},
   "outputs": [
    {
     "name": "stdout",
     "output_type": "stream",
     "text": [
      "-RECORD 0---------------------------------------------------------------------------------------------------------------------------------------------------------------------------------------------------------------------------------------------------------------------------------------------------------------------------------------------------------------------------------------------------------------------------------------------------------------------------------------------------------------------------------------------------------------------------------------------------------------------------------------------------------------------------------------------------------------------------------------------------------------------------------------------------------------------------------------------------------------------------------------------------------------------------------------------------------------------------------------------------------------------------------------------------------------------------------------------------------------------------------------------------------------------------------------------------------------------------------------------------------------------------------------------------------------------------------------------------------------------------------------------------------------------------------------------------------------------------------------------------------------------------------------------------------------------------------------------------------------------------------------------------------------------------------------------------------------------------------------------\n",
      " Message | A new process has been created.\n",
      "\n",
      "Creator Subject:\n",
      "\tSecurity ID:\t\tS-1-5-21-1830255721-3727074217-2423397540-1107\n",
      "\tAccount Name:\t\tpbeesly\n",
      "\tAccount Domain:\t\tDMEVALS\n",
      "\tLogon ID:\t\t0x3731F3\n",
      "\n",
      "Target Subject:\n",
      "\tSecurity ID:\t\tS-1-0-0\n",
      "\tAccount Name:\t\t-\n",
      "\tAccount Domain:\t\t-\n",
      "\tLogon ID:\t\t0x0\n",
      "\n",
      "Process Information:\n",
      "\tNew Process ID:\t\t0x214c\n",
      "\tNew Process Name:\tC:\\ProgramData\\victim\\â€®cod.3aka3.scr\n",
      "\tToken Elevation Type:\t%%1938\n",
      "\tMandatory Label:\t\tS-1-16-8192\n",
      "\tCreator Process ID:\t0x1158\n",
      "\tCreator Process Name:\tC:\\Windows\\explorer.exe\n",
      "\tProcess Command Line:\t\"C:\\ProgramData\\victim\\â€®cod.3aka3.scr\" /S\n",
      "\n",
      "Token Elevation Type indicates the type of token that was assigned to the new process in accordance with User Account Control policy.\n",
      "\n",
      "Type 1 is a full token with no privileges removed or groups disabled.  A full token is only used if User Account Control is disabled or if the user is the built-in Administrator account or a service account.\n",
      "\n",
      "Type 2 is an elevated token with no privileges removed or groups disabled.  An elevated token is used when User Account Control is enabled and the user chooses to start the program using Run as administrator.  An elevated token is also used when an application is configured to always require administrative privilege or to always require maximum privilege, and the user is a member of the Administrators group.\n",
      "\n",
      "Type 3 is a limited token with administrative privileges removed and administrative groups disabled.  The limited token is used when User Account Control is enabled, the application does not require administrative privilege, and the user does not choose to start the program using Run as administrator. \n",
      "\n"
     ]
    }
   ],
   "source": [
    "df = spark.sql(\n",
    "'''\n",
    "SELECT Message\n",
    "FROM apt29Host\n",
    "WHERE LOWER(Channel) = \"security\"\n",
    "    AND EventID = 4688\n",
    "    AND LOWER(ParentProcessName) LIKE \"%explorer.exe\"\n",
    "    AND LOWER(NewProcessName) LIKE \"%3aka3%\"\n",
    "\n",
    "'''\n",
    ")\n",
    "df.show(100,truncate = False, vertical = True)"
   ]
  },
  {
   "cell_type": "markdown",
   "metadata": {},
   "source": [
    "## 1.A.2. Masquerading\n",
    "**Procedure:** Использован символ unicode right-to-left override (RTLO) для обфусцирования имени файла rcs.3aka3.doc (изначально cod.3aka.scr)\n",
    "\n",
    "**Criteria:** Пристутствие right-to-left override character (U+202E) в процессе rcs.3aka.doc ИЛИ в исходном имени файла (cod.3aka.scr)\n"
   ]
  },
  {
   "cell_type": "markdown",
   "metadata": {},
   "source": [
    "## Здесь ещё множество тактик, техник и процедур..."
   ]
  },
  {
   "cell_type": "markdown",
   "metadata": {},
   "source": [
    "## 9.C.3. File Deletion\n",
    "**Procedure:** Удалён working.zip (из каталога AppData) на диске используя SDelete\n",
    "\n",
    "**Criteria:** sdelete64.exe удалил файл \\AppData\\Roaming\\working.zip\n"
   ]
  },
  {
   "cell_type": "code",
   "execution_count": 10,
   "metadata": {},
   "outputs": [
    {
     "name": "stdout",
     "output_type": "stream",
     "text": [
      "-RECORD 0----------------------------------------------------------------------------------------------------------------------------------------------------------------------------------------------------------------------------------------------------------------------------------------------------------------------------------------------------------------------------------------------------------------------------------------------------------------------------------------------------------------------------------------------------\n",
      " Message | File Delete:\n",
      "RuleName: -\n",
      "UtcTime: 2020-05-02 03:17:41.353\n",
      "ProcessGuid: {5aa8ec29-e655-5eac-8303-000000000400}\n",
      "ProcessId: 6640\n",
      "User: DMEVALS\\pbeesly\n",
      "Image: C:\\Windows\\Temp\\sdelete64.exe\n",
      "TargetFilename: C:\\Users\\pbeesly\\Desktop\\working.zip\n",
      "Hashes: SHA1=321A74E1D43B00DF8D3D4A55CE36C5E7A143A5C4,MD5=14C4E1AB76CF430C499E8509CA488F54,SHA256=1125328F7A204931E2E22C5BBE7238E382B35C1456F6961B1EF8566C5EE06863,IMPHASH=00000000000000000000000000000000\n",
      "IsExecutable: false\n",
      "Archived: false - shredded file with pattern 0x00         \n",
      "-RECORD 1----------------------------------------------------------------------------------------------------------------------------------------------------------------------------------------------------------------------------------------------------------------------------------------------------------------------------------------------------------------------------------------------------------------------------------------------------------------------------------------------------------------------------------------------------\n",
      " Message | File Delete:\n",
      "RuleName: -\n",
      "UtcTime: 2020-05-02 03:17:18.102\n",
      "ProcessGuid: {5aa8ec29-e63e-5eac-8203-000000000400}\n",
      "ProcessId: 6116\n",
      "User: DMEVALS\\pbeesly\n",
      "Image: C:\\Windows\\Temp\\sdelete64.exe\n",
      "TargetFilename: C:\\Users\\pbeesly\\ZZZZZZZZZZZZZZZZZZZZZZZ.ZZZ\n",
      "Hashes: SHA1=61A5FFA57DFE0D9B3E4938439FF3452109D4E709,MD5=58B9030861D1CC69344164EE048D9ABC,SHA256=DD4969A104193430D250956C52C2498786C4922361D306B9CBB0148F69C1339C,IMPHASH=00000000000000000000000000000000\n",
      "IsExecutable: false\n",
      "Archived: false - shredded file with pattern 0x00 \n",
      "-RECORD 2----------------------------------------------------------------------------------------------------------------------------------------------------------------------------------------------------------------------------------------------------------------------------------------------------------------------------------------------------------------------------------------------------------------------------------------------------------------------------------------------------------------------------------------------------\n",
      " Message | File Delete:\n",
      "RuleName: -\n",
      "UtcTime: 2020-05-02 03:16:52.587\n",
      "ProcessGuid: {5aa8ec29-e624-5eac-7f03-000000000400}\n",
      "ProcessId: 3552\n",
      "User: DMEVALS\\pbeesly\n",
      "Image: C:\\Windows\\Temp\\sdelete64.exe\n",
      "TargetFilename: C:\\Windows\\Temp\\Rar.exe\n",
      "Hashes: SHA1=408238F3BEA1DF74E8B9B672E8F95C5BA2C5DBC0,MD5=FD021D31F1DFA5E00EFA035758023064,SHA256=8FD96796FCDB8CAC8DB026C2C78E24493507CEDC500E358B1564F184DA18D94C,IMPHASH=00000000000000000000000000000000\n",
      "IsExecutable: false\n",
      "Archived: false - shredded file with pattern 0x00                      \n",
      "\n"
     ]
    }
   ],
   "source": [
    "df = spark.sql(\n",
    "'''\n",
    "SELECT Message\n",
    "FROM apt29Host j\n",
    "INNER JOIN (\n",
    "    SELECT h.ProcessGuid\n",
    "    FROM apt29Host h\n",
    "    INNER JOIN (\n",
    "        SELECT f.ProcessGuid\n",
    "        FROM apt29Host f\n",
    "        INNER JOIN (\n",
    "          SELECT d.ProcessGuid\n",
    "          FROM apt29Host d\n",
    "          INNER JOIN (\n",
    "              SELECT b.ProcessGuid\n",
    "              FROM apt29Host b\n",
    "              INNER JOIN (\n",
    "                SELECT ProcessGuid\n",
    "                FROM apt29Host\n",
    "                WHERE Channel = \"Microsoft-Windows-Sysmon/Operational\"\n",
    "                    AND EventID = 1\n",
    "                    AND ParentImage LIKE '%services.exe'\n",
    "              ) a\n",
    "              ON b.ParentProcessGuid = a.ProcessGuid\n",
    "              WHERE Channel = \"Microsoft-Windows-Sysmon/Operational\"\n",
    "                AND Image LIKE '%python.exe'\n",
    "          ) c\n",
    "          ON d.ParentProcessGuid = c.ProcessGuid\n",
    "          WHERE Channel = \"Microsoft-Windows-Sysmon/Operational\"\n",
    "              AND EventID = 1\n",
    "        ) e\n",
    "        ON f.ParentProcessGuid = e.ProcessGuid\n",
    "        WHERE Channel = \"Microsoft-Windows-Sysmon/Operational\"\n",
    "          AND EventID = 1\n",
    "          AND Image LIKE '%cmd.exe'\n",
    "    ) g\n",
    "    ON h.ParentProcessGuid = g.ProcessGuid\n",
    "    WHERE Channel = \"Microsoft-Windows-Sysmon/Operational\"\n",
    "        AND h.EventID = 1\n",
    ") i\n",
    "ON j.ProcessGuid = i.ProcessGuid\n",
    "WHERE j.Channel = \"Microsoft-Windows-Sysmon/Operational\"\n",
    "    AND j.EventID = 23\n",
    "\n",
    "'''\n",
    ")\n",
    "df.show(100,truncate = False, vertical = True)"
   ]
  },
  {
   "cell_type": "markdown",
   "metadata": {},
   "source": [
    "## 9.C.4. File Deletion\n",
    "**Procedure:** SDelete удалён с диска, использована соманда del cmd.exe\n",
    "\n",
    "**Criteria:** cmd.exe удалил файл sdelete64.exe\n"
   ]
  },
  {
   "cell_type": "code",
   "execution_count": 11,
   "metadata": {},
   "outputs": [
    {
     "name": "stdout",
     "output_type": "stream",
     "text": [
      "-RECORD 0-----------------------------------------------------------------------------------------------------------------------------------------------------------------------------------------------------------------------------------------------------------------------------------------------------------------------------------------------------------------------------------------------------------------------------------------------------------------------------------------------\n",
      " Message | File Delete:\n",
      "RuleName: -\n",
      "UtcTime: 2020-05-02 03:17:52.009\n",
      "ProcessGuid: {5aa8ec29-e618-5eac-7e03-000000000400}\n",
      "ProcessId: 8772\n",
      "User: DMEVALS\\pbeesly\n",
      "Image: C:\\windows\\system32\\cmd.exe\n",
      "TargetFilename: C:\\Windows\\Temp\\sdelete64.exe\n",
      "Hashes: SHA1=7BCD946326B67F806B3DB4595EDE9FBDF29D0C36,MD5=2B5CB081721B8BA454713119BE062491,SHA256=FEEC1457836A5F84291215A2A003FCDE674E7E422DF8C4ED6FE5BB3B679CDC87,IMPHASH=342934F7499D0F57D88D4434E41B7BF9\n",
      "IsExecutable: true\n",
      "Archived: true \n",
      "\n"
     ]
    }
   ],
   "source": [
    "df = spark.sql(\n",
    "'''\n",
    "SELECT h.Message\n",
    "FROM apt29Host h\n",
    "INNER JOIN (\n",
    "    SELECT f.ProcessGuid\n",
    "    FROM apt29Host f\n",
    "    INNER JOIN (\n",
    "      SELECT d.ProcessGuid\n",
    "      FROM apt29Host d\n",
    "      INNER JOIN (\n",
    "          SELECT b.ProcessGuid\n",
    "          FROM apt29Host b\n",
    "          INNER JOIN (\n",
    "            SELECT ProcessGuid\n",
    "            FROM apt29Host\n",
    "            WHERE Channel = \"Microsoft-Windows-Sysmon/Operational\"\n",
    "                AND EventID = 1\n",
    "                AND ParentImage LIKE '%services.exe'\n",
    "          ) a\n",
    "          ON b.ParentProcessGuid = a.ProcessGuid\n",
    "          WHERE Channel = \"Microsoft-Windows-Sysmon/Operational\"\n",
    "            AND Image LIKE '%python.exe'\n",
    "      ) c\n",
    "      ON d.ParentProcessGuid = c.ProcessGuid\n",
    "      WHERE Channel = \"Microsoft-Windows-Sysmon/Operational\"\n",
    "          AND EventID = 1\n",
    "    ) e\n",
    "    ON f.ParentProcessGuid = e.ProcessGuid\n",
    "    WHERE Channel = \"Microsoft-Windows-Sysmon/Operational\"\n",
    "      AND EventID = 1\n",
    "      AND Image LIKE '%cmd.exe'\n",
    ") g\n",
    "ON h.ProcessGuid = g.ProcessGuid\n",
    "WHERE Channel = \"Microsoft-Windows-Sysmon/Operational\"\n",
    "    AND h.EventID = 23\n",
    "\n",
    "'''\n",
    ")\n",
    "df.show(100,truncate = False, vertical = True)"
   ]
  },
  {
   "cell_type": "code",
   "execution_count": null,
   "metadata": {},
   "outputs": [],
   "source": []
  },
  {
   "cell_type": "code",
   "execution_count": null,
   "metadata": {},
   "outputs": [],
   "source": []
  }
 ],
 "metadata": {
  "kernelspec": {
   "display_name": "PySpark_Python3",
   "language": "python",
   "name": "pyspark3"
  },
  "language_info": {
   "codemirror_mode": {
    "name": "ipython",
    "version": 3
   },
   "file_extension": ".py",
   "mimetype": "text/x-python",
   "name": "python",
   "nbconvert_exporter": "python",
   "pygments_lexer": "ipython3",
   "version": "3.7.6"
  }
 },
 "nbformat": 4,
 "nbformat_minor": 4
}
